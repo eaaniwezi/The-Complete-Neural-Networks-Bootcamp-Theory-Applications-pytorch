{
 "cells": [
  {
   "cell_type": "markdown",
   "metadata": {},
   "source": [
    "## Word Embeddings"
   ]
  },
  {
   "cell_type": "code",
   "execution_count": 2,
   "metadata": {},
   "outputs": [],
   "source": [
    "import torch\n",
    "import torch.nn as nn\n",
    "import torch.nn.functional as F\n",
    "import torch.optim as optim"
   ]
  },
  {
   "cell_type": "code",
   "execution_count": 3,
   "metadata": {},
   "outputs": [
    {
     "name": "stdout",
     "output_type": "stream",
     "text": [
      "tensor([1])\n"
     ]
    }
   ],
   "source": [
    "#The indices of the words represent the values in the lookup table\n",
    "word_to_idx = {\"I\": 0, \"love\": 1, \"eating\":2, \"and\":3, \"sleeping\":4}\n",
    "embeddings = nn.Embedding(5, 7)    # 5 words in vocab, embedding size is 7\n",
    "word_index = torch.tensor([word_to_idx[\"love\"]])\n",
    "print(word_index)"
   ]
  },
  {
   "cell_type": "code",
   "execution_count": 4,
   "metadata": {},
   "outputs": [
    {
     "name": "stdout",
     "output_type": "stream",
     "text": [
      "tensor([[ 1.4711, -0.0111, -0.2369,  1.4549,  1.3532,  1.3909,  0.1836]],\n",
      "       grad_fn=<EmbeddingBackward0>)\n",
      "torch.Size([1, 7])\n"
     ]
    }
   ],
   "source": [
    "love = embeddings(word_index)\n",
    "print(love)\n",
    "print(love.shape)"
   ]
  },
  {
   "cell_type": "code",
   "execution_count": 5,
   "metadata": {},
   "outputs": [
    {
     "name": "stdout",
     "output_type": "stream",
     "text": [
      "tensor([0, 1, 2, 3, 4])\n",
      "tensor([[ 2.0565, -1.5283,  0.3837, -0.2614, -0.1557,  0.4281, -1.8800],\n",
      "        [ 1.4711, -0.0111, -0.2369,  1.4549,  1.3532,  1.3909,  0.1836],\n",
      "        [ 1.0715,  0.4788, -0.2818,  0.2587, -0.0501, -1.9553, -0.7337],\n",
      "        [ 1.0226, -0.0586, -1.0999, -0.6388, -0.4510,  1.3005,  1.3336],\n",
      "        [ 0.4154, -0.6668,  1.1787,  0.2404,  0.2139,  0.9451,  1.0018]],\n",
      "       grad_fn=<EmbeddingBackward0>)\n",
      "torch.Size([5, 7])\n"
     ]
    }
   ],
   "source": [
    "all_ind = torch.tensor([w for w in range(5)], dtype = torch.long)\n",
    "all_words = embeddings(all_ind)\n",
    "print(all_ind)\n",
    "print(all_words)\n",
    "print(all_words.shape)"
   ]
  },
  {
   "cell_type": "markdown",
   "metadata": {},
   "source": [
    "## Exercise: N-Gram Skip Model\n",
    "### Given a sequence of words, we want to predict the ith word of the sequence: P(w(i)|w(i-1), w(i-2), .....)\n",
    "#### Source: https://pytorch.org/tutorials/beginner/nlp/word_embeddings_tutorial.html#an-example-n-gram-language-modeling  \n"
   ]
  }
 ],
 "metadata": {
  "kernelspec": {
   "display_name": "Python 3",
   "language": "python",
   "name": "python3"
  },
  "language_info": {
   "codemirror_mode": {
    "name": "ipython",
    "version": 3
   },
   "file_extension": ".py",
   "mimetype": "text/x-python",
   "name": "python",
   "nbconvert_exporter": "python",
   "pygments_lexer": "ipython3",
   "version": "3.11.1"
  }
 },
 "nbformat": 4,
 "nbformat_minor": 2
}
