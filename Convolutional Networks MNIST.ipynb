{
 "cells": [
  {
   "cell_type": "code",
   "execution_count": 1,
   "metadata": {},
   "outputs": [
    {
     "name": "stderr",
     "output_type": "stream",
     "text": [
      "c:\\Users\\eaani\\AppData\\Local\\Programs\\Python\\Python311\\Lib\\site-packages\\torchvision\\io\\image.py:13: UserWarning: Failed to load image Python extension: 'Could not find module 'C:\\Users\\eaani\\AppData\\Local\\Programs\\Python\\Python311\\Lib\\site-packages\\torchvision\\image.pyd' (or one of its dependencies). Try using the full path with constructor syntax.'If you don't plan on using image functionality from `torchvision.io`, you can ignore this warning. Otherwise, there might be something wrong with your environment. Did you have `libjpeg` or `libpng` installed before building `torchvision` from source?\n",
      "  warn(\n"
     ]
    }
   ],
   "source": [
    "import torch\n",
    "import torch.nn as nn\n",
    "import torchvision.transforms as transforms\n",
    "import torchvision.datasets as datasets\n",
    "from torch.autograd import Variable"
   ]
  },
  {
   "cell_type": "code",
   "execution_count": 2,
   "metadata": {},
   "outputs": [],
   "source": [
    "# Specify the Mean and standard deviation of all the pixels in the MNIST dataset. They are precomputed \n",
    "mean_gray = 0.1307\n",
    "stddev_gray = 0.3081\n",
    "\n",
    "#Transform the images to tensors\n",
    "#Normalize a tensor image with mean and standard deviation. Given mean: (M1,...,Mn) and std: (S1,..,Sn) \n",
    "#for n channels, this transform will normalize each channel of the input torch.Tensor\n",
    "#i.e. input[channel] = (input[channel] - mean[channel]) / std[channel]\n",
    "\n",
    "transforms = transforms.Compose([transforms.ToTensor(),\n",
    "                                transforms.Normalize((mean_gray,), (stddev_gray,))])\n",
    "\n",
    "#Load our dataset\n",
    "train_dataset = datasets.MNIST(root = './data', \n",
    "                            train = True, \n",
    "                            transform = transforms,\n",
    "                            download = True)\n",
    "\n",
    "test_dataset = datasets.MNIST(root = './data', \n",
    "                            train = False, \n",
    "                            transform = transforms)"
   ]
  },
  {
   "cell_type": "code",
   "execution_count": 3,
   "metadata": {},
   "outputs": [
    {
     "data": {
      "text/plain": [
       "<matplotlib.image.AxesImage at 0x1e22f137b50>"
      ]
     },
     "execution_count": 3,
     "metadata": {},
     "output_type": "execute_result"
    },
    {
     "data": {
      "image/png": "[encoded data removed]",
      "text/plain": [
       "<Figure size 640x480 with 1 Axes>"
      ]
     },
     "metadata": {},
     "output_type": "display_data"
    }
   ],
   "source": [
    "import matplotlib.pyplot as plt\n",
    "random_image = train_dataset[20][0].numpy() * stddev_gray + mean_gray\n",
    "plt.imshow(random_image.reshape(28, 28), cmap='gray')"
   ]
  },
  {
   "cell_type": "code",
   "execution_count": 4,
   "metadata": {},
   "outputs": [
    {
     "name": "stdout",
     "output_type": "stream",
     "text": [
      "4\n"
     ]
    }
   ],
   "source": [
    "print(train_dataset[20][1])   #Print the corresponding label for the image"
   ]
  },
  {
   "cell_type": "code",
   "execution_count": 5,
   "metadata": {},
   "outputs": [],
   "source": [
    "#Make the dataset iterable\n",
    "batch_size = 100\n",
    "\n",
    "train_load = torch.utils.data.DataLoader(dataset = train_dataset, \n",
    "                                         batch_size = batch_size,\n",
    "                                         shuffle = True)\n",
    "\n",
    "test_load = torch.utils.data.DataLoader(dataset = test_dataset, \n",
    "                                         batch_size = batch_size,\n",
    "                                         shuffle = False)"
   ]
  },
  {
   "cell_type": "code",
   "execution_count": 6,
   "metadata": {},
   "outputs": [
    {
     "name": "stdout",
     "output_type": "stream",
     "text": [
      "There are 60000 images in the training set\n",
      "There are 10000 images in the test set\n",
      "There are 600 batches in the train loader\n",
      "There are 100 batches in the testloader\n"
     ]
    }
   ],
   "source": [
    "print('There are {} images in the training set'.format(len(train_dataset)))\n",
    "print('There are {} images in the test set'.format(len(test_dataset)))\n",
    "print('There are {} batches in the train loader'.format(len(train_load)))\n",
    "print('There are {} batches in the testloader'.format(len(test_load)))"
   ]
  },
  {
   "cell_type": "markdown",
   "metadata": {},
   "source": [
    "![cnn mnist](https://user-images.githubusercontent.com/30661597/61713471-3c957d00-ad8b-11e9-9a38-e3f4d1e72565.png)"
   ]
  },
  {
   "cell_type": "code",
   "execution_count": 7,
   "metadata": {},
   "outputs": [],
   "source": [
    "#Create the model class\n",
    "class CNN(nn.Module):\n",
    "    def __init__(self):\n",
    "        super(CNN,self).__init__()\n",
    "        #Same Padding = [(filter size - 1) / 2] (Same Padding--> input size = output size)\n",
    "        self.cnn1 = nn.Conv2d(in_channels=1, out_channels=8, kernel_size=3,stride=1, padding=1)\n",
    "        #The output size of each of the 8 feature maps is \n",
    "        #[(input_size - filter_size + 2(padding) / stride) +1] --> [(28-3+2(1)/1)+1] = 28 (padding type is same)\n",
    "        #Batch normalization\n",
    "        self.batchnorm1 = nn.BatchNorm2d(8)\n",
    "        #RELU\n",
    "        self.relu = nn.ReLU()\n",
    "        self.maxpool = nn.MaxPool2d(kernel_size=2)\n",
    "        #After max pooling, the output of each feature map is now 28/2 = 14\n",
    "        self.cnn2 = nn.Conv2d(in_channels=8, out_channels=32, kernel_size=5, stride=1, padding=2)\n",
    "        #Output size of each of the 32 feature maps remains 14\n",
    "        self.batchnorm2 = nn.BatchNorm2d(32)\n",
    "        #After max pooling, the output of each feature map is 14/2 = 7\n",
    "        #Flatten the feature maps. You have 32 feature maps, each of them is of size 7x7 --> 32*7*7 = 1568\n",
    "        self.fc1 = nn.Linear(in_features=1568, out_features=600)\n",
    "        self.droput = nn.Dropout(p=0.5)\n",
    "        self.fc2 = nn.Linear(in_features=600, out_features=10)\n",
    "    def forward(self,x):\n",
    "        out = self.cnn1(x)\n",
    "        out = self.batchnorm1(out)\n",
    "        out = self.relu(out)\n",
    "        out = self.maxpool(out)\n",
    "        out = self.cnn2(out)\n",
    "        out = self.batchnorm2(out)\n",
    "        out = self.relu(out)\n",
    "        out = self.maxpool(out)\n",
    "        #Now we have to flatten the output. This is where we apply the feed forward neural network as learned before! \n",
    "        #It will take the shape (batch_size, 1568) = (100, 1568)\n",
    "        out = out.view(-1,1568)\n",
    "        #Then we forward through our fully connected layer \n",
    "        out = self.fc1(out)\n",
    "        out = self.relu(out)\n",
    "        out = self.droput(out)\n",
    "        out = self.fc2(out)\n",
    "        return out"
   ]
  },
  {
   "cell_type": "code",
   "execution_count": 8,
   "metadata": {},
   "outputs": [],
   "source": [
    "model = CNN()\n",
    "CUDA = torch.cuda.is_available()\n",
    "if CUDA:\n",
    "    model = model.cuda()    \n",
    "loss_fn = nn.CrossEntropyLoss()        \n",
    "# Show weight decay\n",
    "optimizer = torch.optim.SGD(model.parameters(), lr = 0.01)"
   ]
  },
  {
   "cell_type": "code",
   "execution_count": 9,
   "metadata": {},
   "outputs": [
    {
     "name": "stdout",
     "output_type": "stream",
     "text": [
      "For one iteration, this is what happens:\n",
      "Input Shape: torch.Size([100, 1, 28, 28])\n",
      "Labels Shape: torch.Size([100])\n",
      "Outputs Shape torch.Size([100, 10])\n",
      "Predicted Shape torch.Size([100])\n",
      "Predicted Tensor:\n",
      "tensor([6, 4, 1, 5, 6, 3, 6, 2, 1, 6, 5, 4, 4, 5, 3, 5, 2, 6, 6, 6, 8, 4, 6, 5,\n",
      "        4, 1, 6, 6, 2, 3, 1, 4, 4, 6, 5, 6, 1, 4, 4, 6, 5, 3, 6, 3, 0, 3, 4, 5,\n",
      "        6, 4, 1, 7, 1, 3, 6, 1, 6, 6, 6, 7, 6, 6, 6, 6, 6, 6, 6, 1, 6, 1, 6, 7,\n",
      "        1, 1, 2, 6, 6, 1, 6, 2, 4, 5, 5, 6, 6, 1, 6, 6, 5, 3, 1, 1, 6, 6, 6, 1,\n",
      "        8, 6, 6, 6])\n"
     ]
    }
   ],
   "source": [
    "#Understand what's happening\n",
    "iteration = 0\n",
    "correct = 0\n",
    "\n",
    "for i,(inputs,labels) in enumerate (train_load):\n",
    "\n",
    "    if CUDA:\n",
    "        inputs = inputs.cuda()\n",
    "        labels = labels.cuda()\n",
    "        \n",
    "    print(\"For one iteration, this is what happens:\")\n",
    "    print(\"Input Shape:\",inputs.shape)\n",
    "    print(\"Labels Shape:\",labels.shape)\n",
    "    output = model(inputs)\n",
    "    print(\"Outputs Shape\",output.shape)\n",
    "    _, predicted = torch.max(output, 1)\n",
    "    print(\"Predicted Shape\",predicted.shape)\n",
    "    print(\"Predicted Tensor:\")\n",
    "    print(predicted)\n",
    "    correct += (predicted == labels).sum()\n",
    "    break"
   ]
  },
  {
   "cell_type": "code",
   "execution_count": 10,
   "metadata": {},
   "outputs": [
    {
     "name": "stdout",
     "output_type": "stream",
     "text": [
      "Epoch 1/25, Training Loss: 0.469, Training Accuracy: 87.635, Testing Loss: 0.157, Testing Acc: 95.750\n",
      "Epoch 2/25, Training Loss: 0.161, Training Accuracy: 95.458, Testing Loss: 0.096, Testing Acc: 97.210\n",
      "Epoch 3/25, Training Loss: 0.116, Training Accuracy: 96.678, Testing Loss: 0.079, Testing Acc: 97.630\n",
      "Epoch 4/25, Training Loss: 0.095, Training Accuracy: 97.318, Testing Loss: 0.064, Testing Acc: 98.080\n",
      "Epoch 5/25, Training Loss: 0.080, Training Accuracy: 97.638, Testing Loss: 0.055, Testing Acc: 98.310\n",
      "Epoch 6/25, Training Loss: 0.072, Training Accuracy: 97.907, Testing Loss: 0.051, Testing Acc: 98.390\n",
      "Epoch 7/25, Training Loss: 0.065, Training Accuracy: 98.102, Testing Loss: 0.046, Testing Acc: 98.510\n",
      "Epoch 8/25, Training Loss: 0.061, Training Accuracy: 98.193, Testing Loss: 0.044, Testing Acc: 98.680\n",
      "Epoch 9/25, Training Loss: 0.056, Training Accuracy: 98.382, Testing Loss: 0.042, Testing Acc: 98.700\n",
      "Epoch 10/25, Training Loss: 0.052, Training Accuracy: 98.482, Testing Loss: 0.040, Testing Acc: 98.740\n",
      "Epoch 11/25, Training Loss: 0.049, Training Accuracy: 98.575, Testing Loss: 0.038, Testing Acc: 98.770\n",
      "Epoch 12/25, Training Loss: 0.046, Training Accuracy: 98.652, Testing Loss: 0.036, Testing Acc: 98.850\n",
      "Epoch 13/25, Training Loss: 0.043, Training Accuracy: 98.718, Testing Loss: 0.035, Testing Acc: 98.840\n",
      "Epoch 14/25, Training Loss: 0.041, Training Accuracy: 98.787, Testing Loss: 0.033, Testing Acc: 98.930\n",
      "Epoch 15/25, Training Loss: 0.039, Training Accuracy: 98.847, Testing Loss: 0.032, Testing Acc: 98.860\n",
      "Epoch 16/25, Training Loss: 0.036, Training Accuracy: 98.937, Testing Loss: 0.033, Testing Acc: 98.880\n",
      "Epoch 17/25, Training Loss: 0.035, Training Accuracy: 98.970, Testing Loss: 0.032, Testing Acc: 98.860\n",
      "Epoch 18/25, Training Loss: 0.034, Training Accuracy: 99.008, Testing Loss: 0.030, Testing Acc: 98.990\n",
      "Epoch 19/25, Training Loss: 0.032, Training Accuracy: 99.063, Testing Loss: 0.031, Testing Acc: 99.000\n",
      "Epoch 20/25, Training Loss: 0.031, Training Accuracy: 99.120, Testing Loss: 0.030, Testing Acc: 99.030\n",
      "Epoch 21/25, Training Loss: 0.030, Training Accuracy: 99.112, Testing Loss: 0.030, Testing Acc: 98.980\n",
      "Epoch 22/25, Training Loss: 0.030, Training Accuracy: 99.118, Testing Loss: 0.029, Testing Acc: 99.050\n",
      "Epoch 23/25, Training Loss: 0.028, Training Accuracy: 99.178, Testing Loss: 0.028, Testing Acc: 99.080\n",
      "Epoch 24/25, Training Loss: 0.028, Training Accuracy: 99.217, Testing Loss: 0.027, Testing Acc: 99.050\n",
      "Epoch 25/25, Training Loss: 0.027, Training Accuracy: 99.187, Testing Loss: 0.026, Testing Acc: 99.090\n"
     ]
    }
   ],
   "source": [
    "#Training the CNN\n",
    "num_epochs = 25\n",
    "\n",
    "#Define the lists to store the results of loss and accuracy\n",
    "train_loss = []\n",
    "test_loss = []\n",
    "train_accuracy = []\n",
    "test_accuracy = []\n",
    "\n",
    "#Training\n",
    "for epoch in range(num_epochs): \n",
    "    #Reset these below variables to 0 at the begining of every epoch\n",
    "    correct = 0\n",
    "    iterations = 0\n",
    "    iter_loss = 0.0\n",
    "    \n",
    "    model.train()                   # Put the network into training mode\n",
    "    \n",
    "    for i, (inputs, labels) in enumerate(train_load):\n",
    "        \n",
    "        if CUDA:\n",
    "            inputs = inputs.cuda()\n",
    "            labels = labels.cuda()\n",
    "        \n",
    "        outputs = model(inputs)         \n",
    "        loss = loss_fn(outputs, labels)  \n",
    "        iter_loss += loss.item()         # Accumulate the loss\n",
    "        optimizer.zero_grad()            # Clear off the gradient in (w = w - gradient)\n",
    "        loss.backward()                 # Backpropagation \n",
    "        optimizer.step()                # Update the weights\n",
    "        \n",
    "        # Record the correct predictions for training data \n",
    "        _, predicted = torch.max(outputs, 1)\n",
    "        correct += (predicted == labels).sum()\n",
    "        iterations += 1\n",
    "    \n",
    "    # Record the training loss\n",
    "    train_loss.append(iter_loss/iterations)\n",
    "    # Record the training accuracy\n",
    "    train_accuracy.append((100 * correct / len(train_dataset)))\n",
    "   \n",
    "    #Testing\n",
    "    testing_loss = 0.0\n",
    "    correct = 0\n",
    "    iterations = 0\n",
    "\n",
    "    model.eval()                    # Put the network into evaluation mode\n",
    "    \n",
    "    for i, (inputs, labels) in enumerate(test_load):\n",
    "\n",
    "        if CUDA:\n",
    "            inputs = inputs.cuda()\n",
    "            labels = labels.cuda()\n",
    "        \n",
    "        outputs = model(inputs)     \n",
    "        loss = loss_fn(outputs, labels) # Calculate the loss\n",
    "        testing_loss += loss.item()\n",
    "        # Record the correct predictions for training data\n",
    "        _, predicted = torch.max(outputs, 1)\n",
    "        correct += (predicted == labels).sum()\n",
    "        \n",
    "        iterations += 1\n",
    "\n",
    "    # Record the Testing loss\n",
    "    test_loss.append(testing_loss/iterations)\n",
    "    # Record the Testing accuracy\n",
    "    test_accuracy.append((100 * correct / len(test_dataset)))\n",
    "    \n",
    "    print ('Epoch {}/{}, Training Loss: {:.3f}, Training Accuracy: {:.3f}, Testing Loss: {:.3f}, Testing Acc: {:.3f}'\n",
    "           .format(epoch+1, num_epochs, train_loss[-1], train_accuracy[-1], \n",
    "             test_loss[-1], test_accuracy[-1]))"
   ]
  },
  {
   "cell_type": "code",
   "execution_count": 11,
   "metadata": {},
   "outputs": [
    {
     "data": {
      "image/png": "[encoded data removed]",
      "text/plain": [
       "<Figure size 1000x1000 with 1 Axes>"
      ]
     },
     "metadata": {},
     "output_type": "display_data"
    }
   ],
   "source": [
    "# Loss\n",
    "f = plt.figure(figsize=(10, 10))\n",
    "plt.plot(train_loss, label='Training Loss')\n",
    "plt.plot(test_loss, label='Testing Loss')\n",
    "plt.legend()\n",
    "plt.show()"
   ]
  },
  {
   "cell_type": "code",
   "execution_count": 12,
   "metadata": {},
   "outputs": [
    {
     "data": {
      "image/png": "[encoded data removed]",
      "text/plain": [
       "<Figure size 1000x1000 with 1 Axes>"
      ]
     },
     "metadata": {},
     "output_type": "display_data"
    }
   ],
   "source": [
    "# Accuracy\n",
    "f = plt.figure(figsize=(10, 10))\n",
    "plt.plot(train_accuracy, label='Training Accuracy')\n",
    "plt.plot(test_accuracy, label='Testing Accuracy')\n",
    "plt.legend()\n",
    "plt.show()"
   ]
  },
  {
   "cell_type": "code",
   "execution_count": 13,
   "metadata": {},
   "outputs": [
    {
     "name": "stdout",
     "output_type": "stream",
     "text": [
      "Prediction is: 3\n",
      "Actual is: 3\n"
     ]
    }
   ],
   "source": [
    "img = test_dataset[30][0].resize_((1, 1, 28, 28))   #(batch_size,channels,height,width)\n",
    "label = test_dataset[30][1]\n",
    "\n",
    "model.eval()\n",
    "\n",
    "if CUDA:\n",
    "    model = model.cuda()\n",
    "    img = img.cuda()\n",
    "    \n",
    "output = model(img)\n",
    "_, predicted = torch.max(output,1)\n",
    "print(\"Prediction is: {}\".format(predicted.item()))\n",
    "print(\"Actual is: {}\".format(label))"
   ]
  },
  {
   "cell_type": "code",
   "execution_count": 14,
   "metadata": {},
   "outputs": [
    {
     "name": "stdout",
     "output_type": "stream",
     "text": [
      "At index 18, The predicted value is 8 and the actual value is 3\n",
      "At index 62, The predicted value is 5 and the actual value is 9\n",
      "At index 320, The predicted value is 8 and the actual value is 9\n",
      "At index 445, The predicted value is 0 and the actual value is 6\n",
      "At index 582, The predicted value is 2 and the actual value is 8\n",
      "At index 619, The predicted value is 8 and the actual value is 1\n",
      "At index 659, The predicted value is 1 and the actual value is 2\n",
      "At index 684, The predicted value is 3 and the actual value is 7\n",
      "At index 813, The predicted value is 8 and the actual value is 9\n",
      "At index 947, The predicted value is 9 and the actual value is 8\n",
      "At index 1014, The predicted value is 5 and the actual value is 6\n",
      "At index 1039, The predicted value is 2 and the actual value is 7\n",
      "At index 1112, The predicted value is 6 and the actual value is 4\n",
      "At index 1226, The predicted value is 2 and the actual value is 7\n",
      "At index 1232, The predicted value is 4 and the actual value is 9\n",
      "At index 1242, The predicted value is 9 and the actual value is 4\n",
      "At index 1260, The predicted value is 1 and the actual value is 7\n",
      "At index 1319, The predicted value is 0 and the actual value is 8\n",
      "At index 1530, The predicted value is 7 and the actual value is 8\n",
      "At index 1621, The predicted value is 6 and the actual value is 0\n",
      "At index 1709, The predicted value is 5 and the actual value is 9\n",
      "At index 1737, The predicted value is 3 and the actual value is 5\n",
      "At index 1754, The predicted value is 2 and the actual value is 7\n",
      "At index 1901, The predicted value is 4 and the actual value is 9\n",
      "At index 2035, The predicted value is 3 and the actual value is 5\n",
      "At index 2053, The predicted value is 9 and the actual value is 4\n",
      "At index 2093, The predicted value is 1 and the actual value is 8\n",
      "At index 2098, The predicted value is 0 and the actual value is 2\n",
      "At index 2118, The predicted value is 0 and the actual value is 6\n",
      "At index 2130, The predicted value is 9 and the actual value is 4\n",
      "At index 2135, The predicted value is 1 and the actual value is 6\n",
      "At index 2293, The predicted value is 0 and the actual value is 9\n",
      "At index 2387, The predicted value is 1 and the actual value is 9\n",
      "At index 2454, The predicted value is 5 and the actual value is 6\n",
      "At index 2462, The predicted value is 0 and the actual value is 2\n",
      "At index 2488, The predicted value is 4 and the actual value is 2\n",
      "At index 2534, The predicted value is 5 and the actual value is 3\n",
      "At index 2597, The predicted value is 3 and the actual value is 5\n",
      "At index 2654, The predicted value is 1 and the actual value is 6\n",
      "At index 2760, The predicted value is 4 and the actual value is 9\n",
      "At index 2896, The predicted value is 0 and the actual value is 8\n",
      "At index 2921, The predicted value is 2 and the actual value is 3\n",
      "At index 2995, The predicted value is 8 and the actual value is 6\n",
      "At index 3030, The predicted value is 0 and the actual value is 6\n",
      "At index 3060, The predicted value is 7 and the actual value is 9\n",
      "At index 3073, The predicted value is 2 and the actual value is 1\n",
      "At index 3422, The predicted value is 0 and the actual value is 6\n",
      "At index 3520, The predicted value is 4 and the actual value is 6\n",
      "At index 3558, The predicted value is 0 and the actual value is 5\n",
      "At index 3597, The predicted value is 3 and the actual value is 9\n",
      "At index 3727, The predicted value is 9 and the actual value is 8\n",
      "At index 3767, The predicted value is 2 and the actual value is 7\n",
      "At index 3806, The predicted value is 8 and the actual value is 5\n",
      "At index 3906, The predicted value is 3 and the actual value is 1\n",
      "At index 4075, The predicted value is 0 and the actual value is 8\n",
      "At index 4176, The predicted value is 7 and the actual value is 2\n",
      "At index 4238, The predicted value is 3 and the actual value is 7\n",
      "At index 4256, The predicted value is 2 and the actual value is 3\n",
      "At index 4265, The predicted value is 7 and the actual value is 4\n",
      "At index 4497, The predicted value is 7 and the actual value is 8\n",
      "At index 4536, The predicted value is 5 and the actual value is 6\n",
      "At index 4571, The predicted value is 8 and the actual value is 6\n",
      "At index 4639, The predicted value is 9 and the actual value is 8\n",
      "At index 4740, The predicted value is 5 and the actual value is 3\n",
      "At index 4761, The predicted value is 8 and the actual value is 9\n",
      "At index 4783, The predicted value is 9 and the actual value is 4\n",
      "At index 4814, The predicted value is 0 and the actual value is 6\n",
      "At index 4823, The predicted value is 4 and the actual value is 9\n",
      "At index 4860, The predicted value is 9 and the actual value is 4\n",
      "At index 5600, The predicted value is 9 and the actual value is 7\n",
      "At index 5936, The predicted value is 9 and the actual value is 4\n",
      "At index 5955, The predicted value is 8 and the actual value is 3\n",
      "At index 5997, The predicted value is 9 and the actual value is 5\n",
      "At index 6091, The predicted value is 5 and the actual value is 9\n",
      "At index 6576, The predicted value is 1 and the actual value is 7\n",
      "At index 6597, The predicted value is 7 and the actual value is 0\n",
      "At index 6625, The predicted value is 2 and the actual value is 8\n",
      "At index 6651, The predicted value is 8 and the actual value is 0\n",
      "At index 6783, The predicted value is 6 and the actual value is 1\n",
      "At index 8408, The predicted value is 5 and the actual value is 8\n",
      "At index 8519, The predicted value is 3 and the actual value is 7\n",
      "At index 9015, The predicted value is 2 and the actual value is 7\n",
      "At index 9638, The predicted value is 7 and the actual value is 9\n",
      "At index 9642, The predicted value is 7 and the actual value is 9\n",
      "At index 9664, The predicted value is 7 and the actual value is 2\n",
      "At index 9692, The predicted value is 7 and the actual value is 9\n",
      "At index 9698, The predicted value is 4 and the actual value is 6\n",
      "At index 9700, The predicted value is 8 and the actual value is 2\n",
      "At index 9729, The predicted value is 6 and the actual value is 5\n",
      "At index 9770, The predicted value is 0 and the actual value is 5\n",
      "At index 9792, The predicted value is 9 and the actual value is 4\n",
      "Total wrong values: 91\n"
     ]
    }
   ],
   "source": [
    "wrong_values_score = 0\n",
    "\n",
    "for index, (inputs, labels) in enumerate(test_dataset):\n",
    "  img = test_dataset[index][0].resize_((1, 1, 28, 28))   #(batch_size,channels,height,width)\n",
    "  label = test_dataset[index][1]\n",
    "  model.eval()\n",
    "\n",
    "  if CUDA:\n",
    "      model = model.cuda()\n",
    "      img = img.cuda()\n",
    "      \n",
    "  output = model(img)\n",
    "  _, predicted = torch.max(output,1)\n",
    "\n",
    "  if predicted.item() != label:\n",
    "    wrong_values_score +=1\n",
    "    print(f\"At index {index}, The predicted value is {predicted.item()} and the actual value is {label}\")\n",
    "print(f\"Total wrong values: {wrong_values_score}\")\n",
    "     "
   ]
  }
 ],
 "metadata": {
  "kernelspec": {
   "display_name": "Python 3",
   "language": "python",
   "name": "python3"
  },
  "language_info": {
   "codemirror_mode": {
    "name": "ipython",
    "version": 3
   },
   "file_extension": ".py",
   "mimetype": "text/x-python",
   "name": "python",
   "nbconvert_exporter": "python",
   "pygments_lexer": "ipython3",
   "version": "3.11.1"
  }
 },
 "nbformat": 4,
 "nbformat_minor": 2
}
